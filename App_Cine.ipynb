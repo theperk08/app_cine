{
 "cells": [
  {
   "cell_type": "code",
   "execution_count": 1,
   "id": "12de7afd-c3f7-400d-b24c-233ecf119441",
   "metadata": {},
   "outputs": [
    {
     "name": "stdout",
     "output_type": "stream",
     "text": [
      "Writing app_cine.py\n"
     ]
    }
   ],
   "source": [
    "%%writefile app_cine.py\n",
    "import streamlit as st\n",
    "import numpy as np\n",
    "\n",
    "\n",
    "phrases_acteurs = ['Tu aimes vraiment {} ?', \"{} n'est pas mon acteur/actrice préféré(e) mais je respecte ton choix\", \"Moi aussi j'adore {}\"]\n",
    "\n",
    "phrases_annees = [\"Ah, c'était vraiment chouette les années {}\", \"Toi aussi t'as un très bon souvenir des années {} ?\", \"Bof, on a connu mieux que les années {}\"]\n",
    "\n",
    "phrases_genres = [\"J'adore le genre {}\", \"Le style {} n'est pas mon préféré\", \"Pas terribles les {}\"] \n",
    "\n",
    "phrases_alea = [\"Avec le film {}, du genre {}, l'acteur/actrice {} et l'année {}\\n je te suggère fortement :\",\n",
    "                \"T'as pas honte d'avoir regardé le film {} ?\",\n",
    "                \"Très bon choix l'acteur {}\",\n",
    "                \"C'était chouette les années {}\"\n",
    "               ]\n",
    "\n",
    "st.title(\"Dis-moi ton film préféré et je t'en ferai aimer encore d'autres !!!\")\n",
    "\n",
    "films = st.selectbox(\"Film : \",\n",
    "                     ['', 'Dirty Dancing', 'Titanic', 'Le flic de Beverly Hills', 'Spiderman', \"Le fabuleux destin d'Amélie Poulain\"])\n",
    "\n",
    "st.write('Tu peux aussi éventuellement choisir parmi :')\n",
    "\n",
    "with st.form(\"form 2\"):\n",
    "    col1, col2, col3 = st.columns(3)\n",
    "\n",
    "    with col1:\n",
    "        genres = st.multiselect(\"Genres :\",\n",
    "                                ['Drama', \"Comedy\", \"Documentary\"])\n",
    "    with col2:\n",
    "        acteurs = st.selectbox(\"Acteur :\", ['', \"Leonardo DiCaprio\", \"Clint Eastwood\", \"Alain Delon\"])        \n",
    "    \n",
    "    with col3:  \n",
    "        annees = st.radio(\"Années\",\n",
    "    ('pas de préférence', '1910-1920', '1920-1930', '1930-1940', '1940-1950', '1950-1960', '1960-1970', '1970-1980', '1980-1990', '1990-2000', '2000-2010', '2010-2020', '2020-'), index = 0 )\n",
    "        \n",
    "\n",
    "    submit = st.form_submit_button(\"Submit\")\n",
    "\n",
    "# print the selected hobby\n",
    "if submit:\n",
    "    \n",
    "    if annees != 'pas de préférence':\n",
    "        st.write(np.random.choice(phrases_annees).format(annees))\n",
    "        \n",
    "    if genres:\n",
    "        st.write(np.random.choice(phrases_genres).format('/'.join(genres)))\n",
    "        \n",
    "    if acteurs != '':\n",
    "        st.write(np.random.choice(phrases_acteurs).format(acteurs))\n",
    "        \n",
    "    \n",
    "    \n",
    "    st.write(\"Avec le film {}, du genre {}, l'acteur/actrice {} et les années {}\\n je te suggère fortement :\".format(films, \"/\".join(genres), acteurs, annees))\n",
    "    \n",
    "        \n",
    "#x = st.slider('Select a value')\n",
    "#st.write(x, 'squared is', x * x)"
   ]
  },
  {
   "cell_type": "code",
   "execution_count": null,
   "id": "d0b9111f-8fa2-4d86-986f-3189e1ee6826",
   "metadata": {},
   "outputs": [],
   "source": []
  }
 ],
 "metadata": {
  "kernelspec": {
   "display_name": "Python 3 (ipykernel)",
   "language": "python",
   "name": "python3"
  },
  "language_info": {
   "codemirror_mode": {
    "name": "ipython",
    "version": 3
   },
   "file_extension": ".py",
   "mimetype": "text/x-python",
   "name": "python",
   "nbconvert_exporter": "python",
   "pygments_lexer": "ipython3",
   "version": "3.9.16"
  }
 },
 "nbformat": 4,
 "nbformat_minor": 5
}
